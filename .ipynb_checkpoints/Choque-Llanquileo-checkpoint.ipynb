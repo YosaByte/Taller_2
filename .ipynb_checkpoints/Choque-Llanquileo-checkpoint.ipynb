{
 "cells": [
  {
   "cell_type": "markdown",
   "metadata": {
    "slideshow": {
     "slide_type": "slide"
    }
   },
   "source": [
    "# Intro al análisis de datos - ICC732\n",
    "## Taller 2"
   ]
  },
  {
   "cell_type": "markdown",
   "metadata": {},
   "source": [
    "### Instrucciones"
   ]
  },
  {
   "cell_type": "markdown",
   "metadata": {},
   "source": [
    "## **Equipos**\n",
    "- Trabaje en grupos de 3 integrantes.\n",
    "- No se aceptan grupos de 4 integrantes\n",
    "- Si no cumple este requisito contacte al profesor.\n",
    "\n",
    "**Evaluación**\n",
    "- Parte 1: 6 tareas -> 0-3 puntos cada una.\n",
    "- Parte 2: 1 tarea  -> 0-3 puntos cada una.\n",
    "- Parte 3: 4 tareas -> 0-3 puntos cada una.\n",
    "\n",
    "**Reglamento**\n",
    "- Preguntas similares entre grupos, reciben nota mínima.\n",
    "- Puede usar herramientas de asistencia para responder su taller, pero debe adaptar el código al contexto que este taller exige.\n",
    "- Marque con una **X** si herramientas del tipo chatGPT para responder este taller: () Sí, (X) No.\n",
    "- No se revisarán entregas enviadas por Discord o correo electrónico.\n",
    "\n",
    "**Disponibilidad del Taller**\n",
    "- Desde: Lunes 2 de Octubre, 16:50.\n",
    "- Hasta: Miércoles 4 de Octubre: 23:00.\n",
    "\n",
    "**Hint**\n",
    "- Documente métodos y clases\n",
    "\n",
    "**Formato de entrega**\n",
    "- Apellido1-Apellido2-Apellido3.ipynb (ejecutable)\n",
    "- Apellido1-Apellido2-Apellido3.html\n",
    "- Solo 1 integrante sube el taller al campus virtual.\n",
    "- Crear respositorio GitHub: **Link acá**"
   ]
  },
  {
   "cell_type": "markdown",
   "metadata": {},
   "source": [
    "## Juego\n",
    "\n",
    "#### **Clases**\n",
    "- 1 clase denominada ``Dron``:\n",
    "    - representa un Dron en un juego de mesa.\n",
    "    - consta de dos parámetros que lo identifican: nombre y pisición.\n",
    "    - se inicializa en ``0,0`` con nombres ``Timon`` y ``Sid``\n",
    "\n",
    "- 1 clase denominada ``Tablero``:\n",
    "    - que representa un tablero de juego de mesa.\n",
    "    - tiene tamaño que se representa por: x e y.\n",
    "    - se inicializa en tamaño ``50,50``\n",
    "\n",
    "#### **Comportamiento**\n",
    "- El dron se mueve en 4 direcciones: arriba, abajo, izquierda, derecha\n",
    "- En el trablero, el dron puede lanzar bombas\n",
    "\n",
    "#### **Jugada**\n",
    "- Una juagada representa el juego en marcha.\n",
    "- Primero se mueven los drones en diferentes direcciones\n",
    "- Luego, cada dron lanza una bomba\n",
    "- Si la posición de la bomba lanzada por un dron coincide con la posicion del rival, entonces el dron gana."
   ]
  },
  {
   "cell_type": "markdown",
   "metadata": {},
   "source": [
    "#### 1 - Clase Dron\n",
    "\n",
    "- Cree la clase Dron\n",
    "- Implemente la clase.\n",
    "    - ``Dron``\n",
    "- Implemente los métodos\n",
    "    - ``mover_arriba``, ``mover_abajo``, ``mover_izquierda``, ``mover_arriba``, y  ``lanzar_bomba``."
   ]
  },
  {
   "cell_type": "code",
   "execution_count": 1,
   "metadata": {},
   "outputs": [],
   "source": [
    "# Su código acá\n",
    "\n",
    "class Dron:\n",
    "    \n",
    "    def __init__(self, nombre, posicion_x = 0, posicion_y = 0): # Se definen posiciones iniciales y nombre del dron\n",
    "        self.nombre = nombre\n",
    "        self.posicion_x = posicion_x\n",
    "        self.posicion_y = posicion_y\n",
    "    \n",
    "    def mover_arriba(self, y_arriba): #Método que mueve el dron hacia arriba\n",
    "        self.posicion_y = self.posicion_y + y_arriba\n",
    "    \n",
    "    def mover_abajo(self, y_abajo):#Método que mueve el dron hacia abajo\n",
    "        \n",
    "        self.posicion_y = self.posicion_y - y_abajo\n",
    "    \n",
    "    def mover_derecha(self, x_derecha):#Método que mueve el dron hacia la derecha\n",
    "        \n",
    "        self.posicion_x = self.posicion_x + x_derecha\n",
    "    \n",
    "    def mover_izquierda(self, x_izquierda):#Método que mueve el dron hacia izquierda\n",
    "        \n",
    "        self.posicion_x = self.posicion_x - x_izquierda\n",
    "            \n",
    "    def lanzar_bomba(self, x_bomba, y_bomba):#Método que lanza una bomba a una posición\n",
    "        \n",
    "        x_impacto = x_bomba + self.posicion_x #Se agrega dificultad para acertar posición del contrincante\n",
    "        y_impacto = y_bomba + self.posicion_y\n",
    "        return x_impacto , y_impacto #Se devuelve coordenadas del impacto de la bomba\n",
    "        \n",
    "\n"
   ]
  },
  {
   "cell_type": "markdown",
   "metadata": {},
   "source": [
    "#### 2 - Clase Tablero\n",
    "\n",
    "- Implemente la clase Tablero\n",
    "    - tiene tamaño que se representa por: x e y.\n",
    "    - se inicializa en tamaño ``50,50``"
   ]
  },
  {
   "cell_type": "code",
   "execution_count": 2,
   "metadata": {},
   "outputs": [],
   "source": [
    "# Su código acá\n",
    "\n",
    "class Table: \n",
    "    def __init__(self, x_tablero = 50, y_tablero = 50): #Se crea un tablero de 50x50\n",
    "        self.x_tablero = x_tablero\n",
    "        self.y_tablero = y_tablero\n",
    "\n",
    "Tablero = Table()"
   ]
  },
  {
   "cell_type": "markdown",
   "metadata": {},
   "source": [
    "#### 3 - Jugada\n",
    "\n",
    "- Implemente una jugada (con o sin clase)\n",
    "- Mueva los drones en cierta dirección.\n",
    "- Debe atacar lanzando bombas.\n",
    "- Uno de los drones debe ganar y hacer un anuncio al respecto."
   ]
  },
  {
   "cell_type": "code",
   "execution_count": 13,
   "metadata": {},
   "outputs": [],
   "source": [
    "class Jugada: #Se crea una clase para realizar jugadas\n",
    "    \n",
    "    def mov_dron(a,otro_dron,donde,tabla): #Se crea un método para mover el dron, donde \"a\" es igual a la distancia que recorre\n",
    "        if donde == \"arriba\":              # \"otro_dron\" corresponde al dron que se quiere mover, \"donde\" es un string\n",
    "            otro_dron.mover_arriba(a)      # que hace referencia hacia donde se quiere mover el dron y permite 4 entradas:\n",
    "                                           # \"arriba\", \"abajo\", \"izquierda\", \"derecha\" y \"tabla\" corresponde al tablero creado\n",
    "                                           # previamente en la clase Table.\n",
    "            if otro_dron.posicion_y > tabla.y_tablero:\n",
    "                print(f\"No te pudes mover más arriba. El límite es: {tabla.y_tablero}\")\n",
    "                otro_dron.posicion_y =  tabla.y_tablero\n",
    "                print(f\"El dron {otro_dron.nombre} se ha movido a la casilla ({otro_dron.posicion_x},{otro_dron.posicion_y})\")\n",
    "\n",
    "        elif \"abajo\" == donde:\n",
    "            otro_dron.mover_abajo(a)\n",
    "            if otro_dron.posicion_y < tabla.y_tablero-tabla.y_tablero:\n",
    "                print(f\"No te pudes mover más abajo. El límite es: {tabla.y_tablero-tabla.y_tablero}\")\n",
    "                otro_dron.posicion_y =  tabla.y_tablero-tabla.y_tablero\n",
    "            print(f\"El dron {otro_dron.nombre} se ha movido a la casilla ({otro_dron.posicion_x},{otro_dron.posicion_y})\")\n",
    "            \n",
    "        elif \"derecha\" == donde:\n",
    "            otro_dron.mover_derecha(a)\n",
    "            if otro_dron.posicion_x > tabla.x_tablero:\n",
    "                print(f\"No te pudes mover más derecha. El límite es: {tabla.x_tablero}\")\n",
    "                otro_dron.posicion_x =  tabla.x_tablero\n",
    "            print(f\"El dron {otro_dron.nombre} se ha movido a la casilla ({otro_dron.posicion_x},{otro_dron.posicion_y})\")\n",
    "        \n",
    "        elif \"izquierda\" == donde:    \n",
    "            otro_dron.mover_izquierda(a)\n",
    "            if otro_dron.posicion_x < tabla.x_tablero-tabla.x_tablero:\n",
    "                print(f\"No te pudes mover más a la izquierda. El límite es: {tabla.x_tablero-tabla.x_tablero}\")\n",
    "                otro_dron.posicion_x =  tabla.x_tablero -tabla.x_tablero \n",
    "            print(f\"El dron {otro_dron.nombre} se ha movido a la casilla ({otro_dron.posicion_x},{otro_dron.posicion_y})\")\n",
    "        else:\n",
    "            None\n",
    "\n",
    "    def ataque(c, d, otro_dron, victima,tabla): #\"c\" es la distancia en x y \"d\" la distancia en y respecto del dron donde \n",
    "                                                # donde se lanza la bomba. \"otro_dron\" es el dron que lanza la bomba y \n",
    "                                                # \"victima\" es el dron que recibe la bomba. \"tabla\" correponde al Tablero\n",
    "                                                # creado previamente en la clase Table.\n",
    "        if c + otro_dron.posicion_x > tabla.x_tablero or c + otro_dron.posicion_x < tabla.x_tablero-tabla.x_tablero and d + otro_dron.posicion_y > tabla.y_tablero or d + otro_dron.posicion_y < tabla.y_tablero-tabla.y_tablero:\n",
    "                print(f\"La bomba de {otro_dron.nombre} ha salido del tablero\")\n",
    "        else:\n",
    "            print(f\"El dron {otro_dron.nombre} ha lanzado una bomba a la casilla {otro_dron.lanzar_bomba(c,d)}\")\n",
    "            if c + otro_dron.posicion_x == victima.posicion_x and d + otro_dron.posicion_y == victima.posicion_y:\n",
    "                print(f\"El dron {otro_dron.nombre} ha impactado sobre {victima.nombre}\")\n",
    "                print(f\"¡¡¡ El dron {otro_dron.nombre} ha ganado !!!\")\n",
    "            else:\n",
    "                print(f\"La bomba de {otro_dron.nombre} no ha impactado a nadie\")\n",
    "        "
   ]
  },
  {
   "cell_type": "markdown",
   "metadata": {},
   "source": [
    "## Reglas \n",
    "1) Cada Jugada corresponde a 2 movimientos, en una dirección, y un lanzamiento de bomba\n",
    "\n",
    "2) No insultar al rival\n",
    "\n",
    "3) No usar lenguaje soez\n",
    "\n",
    "4) El juego termina cuando uno de los jugadores destruye el dron rival\n",
    "\n",
    "5) Luego de terminado el juego los jugadores se saludan"
   ]
  },
  {
   "cell_type": "code",
   "execution_count": 18,
   "metadata": {},
   "outputs": [
    {
     "name": "stdout",
     "output_type": "stream",
     "text": [
      " Inicia la partida\n",
      "\n",
      "\n",
      "Ronda 1\n",
      "El dron Timon se ha movido a la casilla (13,2)\n",
      "El dron Timon ha lanzado una bomba a la casilla (5, 1)\n",
      "La bomba de Timon no ha impactado a nadie\n",
      "\n",
      "Ronda 2\n",
      "El dron Sid se ha movido a la casilla (33,39)\n",
      "El dron Sid ha lanzado una bomba a la casilla (18, 19)\n",
      "La bomba de Sid no ha impactado a nadie\n",
      "\n",
      "Ronda 3\n",
      "El dron Timon ha lanzado una bomba a la casilla (23, 37)\n",
      "La bomba de Timon no ha impactado a nadie\n",
      "\n",
      "Ronda 4\n",
      "El dron Sid se ha movido a la casilla (33,24)\n",
      "El dron Sid se ha movido a la casilla (21,24)\n",
      "El dron Sid ha lanzado una bomba a la casilla (13, 22)\n",
      "El dron Sid ha impactado sobre Timon\n",
      "¡¡¡ El dron Sid ha ganado !!!\n"
     ]
    }
   ],
   "source": [
    "# Su código acá\n",
    "print(\" Inicia la partida\\n\")\n",
    "\n",
    "Timon = Dron(\"Timon\", 0, 0)\n",
    "Sid = Dron(\"Sid\", 0, 0)\n",
    "\n",
    "print(\"\\nRonda 1\")\n",
    "Jugada.mov_dron(2,Timon,\"arriba\",Tablero)\n",
    "Jugada.mov_dron(13,Timon,\"derecha\",Tablero)\n",
    "Jugada.ataque(-8,-1,Timon,Sid,Tablero)\n",
    "print(\"\\nRonda 2\")\n",
    "Jugada.mov_dron(39,Sid,\"arriba\",Tablero)\n",
    "Jugada.mov_dron(33,Sid,\"derecha\",Tablero)\n",
    "Jugada.ataque(-15,-20,Sid,Timon,Tablero)\n",
    "print(\"\\nRonda 3\")\n",
    "Jugada.mov_dron(20,Timon,\"arriba\",Tablero)\n",
    "Jugada.ataque(10,15,Timon,Sid,Tablero)\n",
    "print(\"\\nRonda 4\")\n",
    "Jugada.mov_dron(15,Sid,\"abajo\",Tablero) \n",
    "Jugada.mov_dron(12,Sid,\"izquierda\",Tablero)\n",
    "Jugada.ataque(-8,-2,Sid,Timon,Tablero) "
   ]
  }
 ],
 "metadata": {
  "kernelspec": {
   "display_name": "Python 3 (ipykernel)",
   "language": "python",
   "name": "python3"
  },
  "language_info": {
   "codemirror_mode": {
    "name": "ipython",
    "version": 3
   },
   "file_extension": ".py",
   "mimetype": "text/x-python",
   "name": "python",
   "nbconvert_exporter": "python",
   "pygments_lexer": "ipython3",
   "version": "3.10.9"
  }
 },
 "nbformat": 4,
 "nbformat_minor": 4
}
