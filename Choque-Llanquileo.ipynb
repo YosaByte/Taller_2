{
 "cells": [
  {
   "cell_type": "markdown",
   "metadata": {
    "slideshow": {
     "slide_type": "slide"
    }
   },
   "source": [
    "# Intro al análisis de datos - ICC732\n",
    "## Taller 2"
   ]
  },
  {
   "cell_type": "markdown",
   "metadata": {},
   "source": [
    "### Instrucciones"
   ]
  },
  {
   "cell_type": "markdown",
   "metadata": {},
   "source": [
    "## **Equipos**\n",
    "- Trabaje en grupos de 3 integrantes.\n",
    "- No se aceptan grupos de 4 integrantes\n",
    "- Si no cumple este requisito contacte al profesor.\n",
    "\n",
    "**Evaluación**\n",
    "- Parte 1: 6 tareas -> 0-3 puntos cada una.\n",
    "- Parte 2: 1 tarea  -> 0-3 puntos cada una.\n",
    "- Parte 3: 4 tareas -> 0-3 puntos cada una.\n",
    "\n",
    "**Reglamento**\n",
    "- Preguntas similares entre grupos, reciben nota mínima.\n",
    "- Puede usar herramientas de asistencia para responder su taller, pero debe adaptar el código al contexto que este taller exige.\n",
    "- Marque con una **X** si herramientas del tipo chatGPT para responder este taller: () Sí, () No.\n",
    "- No se revisarán entregas enviadas por Discord o correo electrónico.\n",
    "\n",
    "**Disponibilidad del Taller**\n",
    "- Desde: Lunes 2 de Octubre, 16:50.\n",
    "- Hasta: Miércoles 4 de Octubre: 23:00.\n",
    "\n",
    "**Hint**\n",
    "- Documente métodos y clases\n",
    "\n",
    "**Formato de entrega**\n",
    "- Apellido1-Apellido2-Apellido3.ipynb (ejecutable)\n",
    "- Apellido1-Apellido2-Apellido3.html\n",
    "- Solo 1 integrante sube el taller al campus virtual.\n",
    "- Crear respositorio GitHub: **Link acá**"
   ]
  },
  {
   "cell_type": "markdown",
   "metadata": {},
   "source": [
    "## Juego\n",
    "\n",
    "#### **Clases**\n",
    "- 1 clase denominada ``Dron``:\n",
    "    - representa un Dron en un juego de mesa.\n",
    "    - consta de dos parámetros que lo identifican: nombre y pisición.\n",
    "    - se inicializa en ``0,0`` con nombres ``Timon`` y ``Sid``\n",
    "\n",
    "- 1 clase denominada ``Tablero``:\n",
    "    - que representa un tablero de juego de mesa.\n",
    "    - tiene tamaño que se representa por: x e y.\n",
    "    - se inicializa en tamaño ``50,50``\n",
    "\n",
    "#### **Comportamiento**\n",
    "- El dron se mueve en 4 direcciones: arriba, abajo, izquierda, derecha\n",
    "- En el trablero, el dron puede lanzar bombas\n",
    "\n",
    "#### **Jugada**\n",
    "- Una juagada representa el juego en marcha.\n",
    "- Primero se mueven los drones en diferentes direcciones\n",
    "- Luego, cada dron lanza una bomba\n",
    "- Si la posición de la bomba lanzada por un dron coincide con la posicion del rival, entonces el dron gana."
   ]
  },
  {
   "cell_type": "markdown",
   "metadata": {},
   "source": [
    "#### 1 - Clase Dron\n",
    "\n",
    "- Cree la clase Dron\n",
    "- Implemente la clase.\n",
    "    - ``Dron``\n",
    "- Implemente los métodos\n",
    "    - ``mover_arriba``, ``mover_abajo``, ``mover_izquierda``, ``mover_arriba``, y  ``lanzar_bomba``."
   ]
  },
  {
   "cell_type": "code",
   "execution_count": 171,
   "metadata": {},
   "outputs": [],
   "source": [
    "# Su código acá\n",
    "\n",
    "class Dron:\n",
    "    \n",
    "    def __init__(self, nombre, posicion_x = 0, posicion_y = 0):\n",
    "        self.nombre = nombre\n",
    "        self.posicion_x = posicion_x\n",
    "        self.posicion_y = posicion_y\n",
    "    \n",
    "    def mover_arriba(self, y_arriba):\n",
    "        if self.posicion_y + y_arriba > 50:\n",
    "            print('Casilla máxima: 50 (No se mueve)')\n",
    "        else:\n",
    "            self.posicion_y = self.posicion_y + y_arriba\n",
    "    \n",
    "    def mover_abajo(self, y_abajo):\n",
    "        if self.posicion_y - y_abajo < 0:\n",
    "            print(\"Casilla mínima: 0 (No se mueve)\")\n",
    "        else:\n",
    "            self.posicion_y = self.posicion_y - y_abajo\n",
    "    \n",
    "    def mover_derecha(self, x_derecha):\n",
    "        if self.posicion_x + x_derecha > 50:\n",
    "            print('Casilla máxima: 50 (No se mueve)')\n",
    "        else:\n",
    "            self.posicion_x = self.posicion_x + x_derecha\n",
    "    \n",
    "    def mover_izquierda(self, x_izquierda):\n",
    "        if self.posicion_x - x_izquierda < 0:\n",
    "            print('Casilla mínima: 0 (No se mueve)')\n",
    "        else:\n",
    "            self.posicion_x = self.posicion_x - x_izquierda\n",
    "            \n",
    "    def lanzar_bomba(self, x_bomba, y_bomba):\n",
    "        if x_bomba + self.posicion_x > 50 or x_bomba + self.posicion_x < 0 and y_bomba + self.posicion_y > 50 or y_bomba + self.posicion_y < 0:\n",
    "                print(\"Tu bomba ha salido del tablero\")\n",
    "        else:\n",
    "            x_impacto = x_bomba + self.posicion_x\n",
    "            y_impacto = y_bomba + self.posicion_y\n",
    "        return x_impacto , y_impacto\n",
    "        \n",
    "\n"
   ]
  },
  {
   "cell_type": "markdown",
   "metadata": {},
   "source": [
    "#### 2 - Clase Tablero\n",
    "\n",
    "- Implemente la clase Tablero\n",
    "    - tiene tamaño que se representa por: x e y.\n",
    "    - se inicializa en tamaño ``50,50``"
   ]
  },
  {
   "cell_type": "code",
   "execution_count": 123,
   "metadata": {},
   "outputs": [],
   "source": [
    "# Su código acá\n",
    "\n",
    "class Tablero:\n",
    "    def __init__(self, x_tablero = 50, y_tablero = 50):\n",
    "        self.x_tablero = x_tablero\n",
    "        self.y_tablero = y_tablero\n",
    "    "
   ]
  },
  {
   "cell_type": "markdown",
   "metadata": {},
   "source": [
    "#### 3 - Jugada\n",
    "\n",
    "- Implemente una jugada (con o sin clase)\n",
    "- Mueva los drones en cierta dirección.\n",
    "- Debe atacar lanzando bombas.\n",
    "- Uno de los drones debe ganar y hacer un anuncio al respecto."
   ]
  },
  {
   "cell_type": "code",
   "execution_count": 166,
   "metadata": {},
   "outputs": [],
   "source": [
    "class Jugada:\n",
    "    \n",
    "    def mov_dron(a,otro_dron,donde):\n",
    "        if donde == \"arriba\":\n",
    "            otro_dron.mover_arriba(a)\n",
    "            print(f\"El dron {otro_dron.nombre} se ha movido a la casilla ({otro_dron.posicion_x},{otro_dron.posicion_y})\")\n",
    "        \n",
    "        elif \"abajo\" == donde:\n",
    "            otro_dron.mover_abajo(a)\n",
    "            print(f\"El dron {otro_dron.nombre} se ha movido a la casilla ({otro_dron.posicion_x},{otro_dron.posicion_y})\")\n",
    "            \n",
    "        elif \"derecha\" == donde:\n",
    "            otro_dron.mover_derecha(a)\n",
    "            print(f\"El dron {otro_dron.nombre} se ha movido a la casilla ({otro_dron.posicion_x},{otro_dron.posicion_y})\")\n",
    "        \n",
    "        elif \"izquierda\" == donde:    \n",
    "            otro_dron.mover_izquierda(a)\n",
    "            print(f\"El dron {otro_dron.nombre} se ha movido a la casilla ({otro_dron.posicion_x},{otro_dron.posicion_y})\")\n",
    "        else:\n",
    "            None\n",
    "\n",
    "    def bombita(c, d, otro_dron, vistima):\n",
    "        if c + otro_dron.posicion_x > 50 or c + otro_dron.posicion_x < 0 and d + otro_dron.posicion_y > 50 or d + otro_dron.posicion_y < 0:\n",
    "                print(f\"La bomba de {otro_dron.nombre} ha salido del tablero\")\n",
    "        else:\n",
    "            print(f\"El dron {otro_dron.nombre} ha lanzado una bomba a la casilla {otro_dron.lanzar_bomba(c,d)}\")\n",
    "            if c + otro_dron.posicion_x == vistima.posicion_x and d + otro_dron.posicion_y == vistima.posicion_y:\n",
    "                print(f\"El dron {otro_dron.nombre} ha impactado sobre {vistima.nombre}\")\n",
    "                print(f\"¡¡¡ El dron {otro_dron.nombre} ha ganado !!!\")\n",
    "            else:\n",
    "                print(f\"La bomba de {otro_dron.nombre} no ha impactado a nadie\")\n",
    "        "
   ]
  },
  {
   "cell_type": "code",
   "execution_count": 179,
   "metadata": {},
   "outputs": [
    {
     "name": "stdout",
     "output_type": "stream",
     "text": [
      "Jogada do Félix\n",
      "\n",
      "El dron Sid se ha movido a la casilla (25,27)\n",
      "El dron Sid se ha movido a la casilla (25,22)\n",
      "Casilla máxima: 50 (No se mueve)\n",
      "El dron Timon se ha movido a la casilla (30,40)\n",
      "El dron Timon se ha movido a la casilla (45,40)\n",
      "El dron Sid ha lanzado una bomba a la casilla (28, 24)\n",
      "La bomba de Sid no ha impactado a nadie\n",
      "La bomba de Timon ha salido del tablero\n",
      "El dron Sid ha lanzado una bomba a la casilla (45, 30)\n",
      "La bomba de Sid no ha impactado a nadie\n",
      "\n",
      "-------------------\n",
      "\n",
      "Jogada do Josa\n",
      "\n",
      "Ronda 1\n",
      "El dron Timon se ha movido a la casilla (0,2)\n",
      "El dron Timon se ha movido a la casilla (13,2)\n",
      "El dron Timon ha lanzado una bomba a la casilla (5, 1)\n",
      "La bomba de Timon no ha impactado a nadie\n",
      "\n",
      "Ronda 2\n",
      "El dron Sid se ha movido a la casilla (0,39)\n",
      "El dron Sid se ha movido a la casilla (33,39)\n",
      "El dron Sid ha lanzado una bomba a la casilla (18, 19)\n",
      "La bomba de Sid no ha impactado a nadie\n",
      "\n",
      "Ronda 3\n",
      "El dron Timon se ha movido a la casilla (13,22)\n",
      "El dron Timon ha lanzado una bomba a la casilla (23, 37)\n",
      "La bomba de Timon no ha impactado a nadie\n",
      "\n",
      "Ronda 4\n",
      "El dron Sid se ha movido a la casilla (33,24)\n",
      "El dron Sid se ha movido a la casilla (21,24)\n",
      "El dron Sid ha lanzado una bomba a la casilla (13, 22)\n",
      "El dron Sid ha impactado sobre Timon\n",
      "¡¡¡ El dron Sid ha ganado !!!\n"
     ]
    }
   ],
   "source": [
    "# Su código acá\n",
    "\n",
    "print(\"Jogada do Félix\\n\")\n",
    "\n",
    "dron_Timon = Dron(\"Timon\", 30, 40)\n",
    "dron_Sid = Dron(\"Sid\", 25, 25)\n",
    "\n",
    "Jugada.mov_dron(2,dron_Sid,\"arriba\")\n",
    "Jugada.mov_dron(5,dron_Sid,\"abajo\")\n",
    "Jugada.mov_dron(124,dron_Timon,\"derecha\")\n",
    "Jugada.mov_dron(15,dron_Timon,\"derecha\")\n",
    "Jugada.bombita(3,2,dron_Sid,dron_Timon)\n",
    "Jugada.bombita(6,10,dron_Timon,dron_Sid)\n",
    "Jugada.bombita(20,8,dron_Sid,dron_Timon)\n",
    "\n",
    "## Jogada do Josa\n",
    "print(\"\\n-------------------\\n\")\n",
    "print(\"Jogada do Josa\")\n",
    "\n",
    "Timon = Dron(\"Timon\", 0, 0)\n",
    "Sid = Dron(\"Sid\", 0, 0)\n",
    "\n",
    "print(\"\\nRonda 1\")\n",
    "Jugada.mov_dron(2,Timon,\"arriba\")\n",
    "Jugada.mov_dron(13,Timon,\"derecha\")\n",
    "Jugada.bombita(-8,-1,Timon,Sid)\n",
    "print(\"\\nRonda 2\")\n",
    "Jugada.mov_dron(39,Sid,\"arriba\")\n",
    "Jugada.mov_dron(33,Sid,\"derecha\")\n",
    "Jugada.bombita(-15,-20,Sid,Timon)\n",
    "print(\"\\nRonda 3\")\n",
    "Jugada.mov_dron(20,Timon,\"arriba\")\n",
    "Jugada.bombita(10,15,Timon,Sid)\n",
    "print(\"\\nRonda 4\")\n",
    "Jugada.mov_dron(15,Sid,\"abajo\")\n",
    "Jugada.mov_dron(12,Sid,\"izquierda\")\n",
    "Jugada.bombita(-8,-2,Sid,Timon)"
   ]
  }
 ],
 "metadata": {
  "kernelspec": {
   "display_name": "Python 3 (ipykernel)",
   "language": "python",
   "name": "python3"
  },
  "language_info": {
   "codemirror_mode": {
    "name": "ipython",
    "version": 3
   },
   "file_extension": ".py",
   "mimetype": "text/x-python",
   "name": "python",
   "nbconvert_exporter": "python",
   "pygments_lexer": "ipython3",
   "version": "3.8.16"
  }
 },
 "nbformat": 4,
 "nbformat_minor": 4
}
